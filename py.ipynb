{
  "metadata": {
    "language_info": {
      "codemirror_mode": {
        "name": "python",
        "version": 3
      },
      "file_extension": ".py",
      "mimetype": "text/x-python",
      "name": "python",
      "nbconvert_exporter": "python",
      "pygments_lexer": "ipython3",
      "version": "3.8"
    },
    "kernelspec": {
      "name": "python",
      "display_name": "Python (Pyodide)",
      "language": "python"
    }
  },
  "nbformat_minor": 4,
  "nbformat": 4,
  "cells": [
    {
      "cell_type": "code",
      "source": "#Fazer um programa que realiza a soma de dois números inteiros e mostre o resultado com a função print.\na = 2\nb = 2\nr = a + b\nprint(r)",
      "metadata": {
        "trusted": true
      },
      "execution_count": null,
      "outputs": []
    },
    {
      "cell_type": "code",
      "source": "#Fazer um programa que concatena as strings \"Programação \" e \"Python\", mostrando o resultado.\nstring1 = 'Programação'\nstring2 = ' Python'\nstring3 = string1+string2\nprint(string3)",
      "metadata": {
        "trusted": true
      },
      "execution_count": null,
      "outputs": []
    },
    {
      "cell_type": "code",
      "source": "#Criar uma lista com 3 valores inteiros 5, 7 e 11.\nprint('5\\n7\\n11')",
      "metadata": {
        "trusted": true
      },
      "execution_count": null,
      "outputs": []
    },
    {
      "cell_type": "code",
      "source": "#Criar uma variável Booleana, e mostrar seu valor.\nt = 1\nf = 0\nprint(bool(t))\nprint(bool(f))",
      "metadata": {
        "trusted": true
      },
      "execution_count": null,
      "outputs": []
    },
    {
      "cell_type": "code",
      "source": "#Calcular um reajuste de 35% no salário de um funcionário, a partir de um valor dado.\nsalario = 100\nreajuste35 = salario - (salario * (35/100))\nprint(reajuste35)",
      "metadata": {
        "trusted": true
      },
      "execution_count": null,
      "outputs": []
    },
    {
      "cell_type": "code",
      "source": "#Dados 3 valores, incluí-los em uma lista.\nlista = [1, 2, 3]\nprint(lista)",
      "metadata": {
        "trusted": true
      },
      "execution_count": null,
      "outputs": []
    },
    {
      "cell_type": "code",
      "source": "#Encontrar a soma dos números inteiros a partir de 1 até N, com incrementos de 3 em 3. Exemplo: 1+4+7+10+13+16+19, para N=19.\nN = 1\nwhile N < 19:\n        N = N + 3\n        print(N)",
      "metadata": {
        "trusted": true
      },
      "execution_count": null,
      "outputs": []
    },
    {
      "cell_type": "code",
      "source": "#As notas de um aluno estão armazenadas em uma lista. Calcular a média dessas notas.\nmedias = [5, 2]\nprint((medias[0]+medias[1])/2)",
      "metadata": {
        "trusted": true
      },
      "execution_count": null,
      "outputs": []
    },
    {
      "cell_type": "code",
      "source": "#Dado valor em dólares, e uma cotação, converter para reais (R$).\ndolar = 1\ncotacao = 5\nreais = dolar * cotacao\nprint(reais)",
      "metadata": {
        "trusted": true
      },
      "execution_count": null,
      "outputs": []
    },
    {
      "cell_type": "code",
      "source": "#Calcule a idade aproximada de uma pessoa a partir do ano de seu nascimento.\nanoa = 2023\nnasc = 2000\nidade = anoa - nasc\nprint(idade)",
      "metadata": {
        "trusted": true
      },
      "execution_count": null,
      "outputs": []
    },
    {
      "cell_type": "code",
      "source": "#Calcular a expressão x^2+y^2/(x-y)^2 a partir dos valores x e y dados.\nx = 2\ny = 4\nexpressao = (((x**2)+(y**2))/((x-y)**2))\nprint(expressao)",
      "metadata": {
        "trusted": true
      },
      "execution_count": null,
      "outputs": []
    },
    {
      "cell_type": "code",
      "source": "#Faça um programa que leia uma senha, até que a senha esteja correta.\n#-Só funciona via prompt.\nsenha = '1234'\nentrada = input()\ncorreta = 0\nwhile correta == 0:\n    if (entrada == senha):\n        print(bool(1))\n        correta = 1\n        break\n    else:\n        print(bool(0))\n        entrada = input()",
      "metadata": {
        "trusted": true
      },
      "execution_count": null,
      "outputs": []
    },
    {
      "cell_type": "code",
      "source": "#Mostrar os números de 0 a 9 na tela usando comando for e a função np.arange do pacote numpy.\nfrom numpy import arange\nprint(arange(10))",
      "metadata": {
        "trusted": true
      },
      "execution_count": null,
      "outputs": []
    },
    {
      "cell_type": "code",
      "source": "#Criar um dicionário com nomes e preços de produtos de um mercado, conforme a tabela a seguir:\n#Nome        Preço \n#Arroz         17.30\n#Feijão        12.50\n#Carne         23.90\n#Alface         3.40\nmercado_dict = {\n    \"Arroz\": 17.30,\n    \"Feijão\": 12.50,\n    \"Carne\": 23.90,\n    \"Alface\": 3.40\n}\nprint(mercado_dict)",
      "metadata": {
        "trusted": true
      },
      "execution_count": null,
      "outputs": []
    },
    {
      "cell_type": "code",
      "source": "#A partir do dicionário criado na questão anterior, alterar os preços dos produtos Carne e Alface, indexando-os pelo nome, no dicionário criado.\nmercado_dict = {\n    \"Arroz\": 17.30,\n    \"Feijão\": 12.50,\n    \"Carne\": 23.90,\n    \"Alface\": 3.40\n}\nprint(mercado_dict)\nmercado_dict[\"Carne\"] = 25.50\nmercado_dict[\"Alface\"] = 4.00\nprint(mercado_dict)",
      "metadata": {
        "trusted": true
      },
      "execution_count": null,
      "outputs": []
    },
    {
      "cell_type": "code",
      "source": "#Escreva um programa que receba dois números e um operador (+,-,* ou /) , e faça a operação matemática definida pelo sinal.\n#-Só funciona via prompt.\nn1 = input('N1\\n')\noperador = input('Operador')\nn2 = input('N2\\n')\nresultado = eval(n1+operador+n2)\nprint(resultado)",
      "metadata": {
        "trusted": true
      },
      "execution_count": null,
      "outputs": []
    },
    {
      "cell_type": "code",
      "source": "#Faça um programa que receba duas notas digitadas pelo usuário. Se a nota for maior ou igual a seis, escreva aprovado, senão escreva reprovado.\nn1 = int(input('N1\\n'))\nn2 = int(input('N2\\n'))\nif ((n1+n2)/2)>= 6:\n    print('Aprovado')\nelse:\n    print('Reprovado')",
      "metadata": {
        "trusted": true
      },
      "execution_count": null,
      "outputs": []
    },
    {
      "cell_type": "code",
      "source": "#Escreva um programa que peça um número inteiro do usuário e mostre se esse número é par ou ímpar. A mensagem na tela deverá seguir o seguinte formato:\n#\"O número [número] é [par/ímpar]\"\nn = int(input('N\\n'))\nif (n!=0)and(n%2==0):\n    print('Par')\nelif n==0:\n    print('Nulo')\nelse:\n    print('Impar')",
      "metadata": {
        "trusted": true
      },
      "execution_count": null,
      "outputs": []
    },
    {
      "cell_type": "code",
      "source": "#Escreva um programa que receba dois números de ponto flutuante e mostre na tela o maior número digitado.\n#Considere a possibilidade de o usuário digitar dois números iguais.\nn1 = float(input())\nn2 = float(input())\nif n1>n2:\n    print(n1)\nelif n1<n2:\n    print(n2)\nelse:\n    print('N1 = N2 =', n1)",
      "metadata": {},
      "execution_count": null,
      "outputs": []
    },
    {
      "cell_type": "code",
      "source": "#Escreva um programa que some todos os elementos de uma lista.\nlista=[2, 2, 3]\ndef soma_elem(s):\n    soma = 0\n    for elem in s:\n        soma += elem\n    return soma\nresultado = soma_elem(lista)\nprint(\"Soma =\", resultado)",
      "metadata": {},
      "execution_count": null,
      "outputs": []
    },
    {
      "cell_type": "code",
      "source": " #Mostrar na tela a lista dos primeiros 1000 números primos.\ni = int(0)\nt = int(1000)\nwhile i<=t:\n    primo = bool(1)\n    if i<=1:\n        primo = bool(0)\n    elif i<=3:\n        primo = bool(1)\n    elif i%2==0 or i%3==0:\n        primo = bool(0)\n    else:\n        div=2\n        while div*div <= i:\n            if i%div==0 or i%(div+2)==0:\n                primo = bool(0)\n                break\n            div += 1\n    if primo==bool(1):\n        print(i)\n    i += 1",
      "metadata": {
        "trusted": true
      },
      "execution_count": null,
      "outputs": []
    },
    {
      "cell_type": "code",
      "source": "from datetime import datetime\nstr_nasc = input(\"Data de nascimento (dd/mm/aaaa): \")\nnasc = datetime.strptime(str_nasc, \"%d/%m/%Y\")\natual = datetime.now()\ndif = atual - nasc\nif dif.days<0:\n    print('Data inválida')\nelse:\n    print('Dias:', dif.days)",
      "metadata": {},
      "execution_count": null,
      "outputs": []
    }
  ]
}