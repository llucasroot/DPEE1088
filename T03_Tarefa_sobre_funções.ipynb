{
  "nbformat": 4,
  "nbformat_minor": 0,
  "metadata": {
    "colab": {
      "provenance": [],
      "authorship_tag": "ABX9TyO8ymmvaqBFhe2qlOqaS2kJ",
      "include_colab_link": true
    },
    "kernelspec": {
      "name": "python3",
      "display_name": "Python 3"
    },
    "language_info": {
      "name": "python"
    }
  },
  "cells": [
    {
      "cell_type": "markdown",
      "metadata": {
        "id": "view-in-github",
        "colab_type": "text"
      },
      "source": [
        "<a href=\"https://colab.research.google.com/github/llucasroot/DPEE1088/blob/main/T03_Tarefa_sobre_fun%C3%A7%C3%B5es.ipynb\" target=\"_parent\"><img src=\"https://colab.research.google.com/assets/colab-badge.svg\" alt=\"Open In Colab\"/></a>"
      ]
    },
    {
      "cell_type": "markdown",
      "source": [
        "1) Escreva uma função que calcule o valor médio de uma lista de números.\n",
        "\n",
        "2) Escreva uma função que receba dois números inteiros \"a\",\"b\" e verifique se \"a\" é divisível por \"b\". Retornar verdadeiro caso sejam divisíveis, e falso em caso contrário.\n",
        "\n",
        "3) Escreva uma função que receba um número  inteiro \"a\" e retorne uma lista com todos os divisores de \"a\". Exemplo: os divisores de 12 são 12,6,4,3,2 e 1. Exemplo de uso: print(divisores(x))\n",
        "\n",
        "4) Escreva uma função que testa se um número \"a\" dado é primo. Deve retornar verdadeiro apenas se \"a\" for primo, e falso caso contrário. Exemplo de uso: if (x>0 and primo(x)):\n"
      ],
      "metadata": {
        "id": "6SsAiJxWhvOT"
      }
    },
    {
      "cell_type": "code",
      "source": [
        "#1\n",
        "lista=[2, 2, 3]\n",
        "def valor_medio(l):\n",
        "    soma = sum(l)\n",
        "    media = soma/len(lista)\n",
        "    return media\n",
        "media = valor_medio(lista)\n",
        "print(\"Média =\", media)"
      ],
      "metadata": {
        "id": "CqvknRPth8dr"
      },
      "execution_count": null,
      "outputs": []
    },
    {
      "cell_type": "code",
      "source": [
        "#2\n",
        "a = int(input())\n",
        "b = int(input())\n",
        "def div(a,b):\n",
        "    if ((a%b)==0):\n",
        "      return True\n",
        "    else:\n",
        "      return False\n",
        "print(div(a, b))"
      ],
      "metadata": {
        "id": "ABOPDCQzdOcG"
      },
      "execution_count": null,
      "outputs": []
    },
    {
      "cell_type": "code",
      "source": [
        "#3\n",
        "a = int(input())\n",
        "def divisores(a):\n",
        "  lista=[]\n",
        "  for i in range(1, a + 1):\n",
        "       if a % i == 0:\n",
        "           lista.append(i)\n",
        "  return lista\n",
        "print(divisores(a))"
      ],
      "metadata": {
        "id": "Yp835IVCfVVh"
      },
      "execution_count": null,
      "outputs": []
    },
    {
      "cell_type": "code",
      "source": [
        "#4\n",
        "a = int(input())\n",
        "def primo(a):\n",
        "    if a<=1:\n",
        "      return False\n",
        "    elif a<= 3:\n",
        "      return False\n",
        "    elif a%2==0 or a%3==0:\n",
        "      return False\n",
        "    else:\n",
        "        div=2\n",
        "        while div*div <= a:\n",
        "            if a%div==0 or a%(div+2)==0:\n",
        "                return False\n",
        "                break\n",
        "            div += 1\n",
        "    return True\n",
        "print(primo(a))"
      ],
      "metadata": {
        "id": "dt8dyji_hykr"
      },
      "execution_count": null,
      "outputs": []
    }
  ]
}